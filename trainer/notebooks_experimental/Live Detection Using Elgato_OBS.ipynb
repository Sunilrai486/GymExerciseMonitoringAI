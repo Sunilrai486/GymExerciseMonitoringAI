{
 "cells": [
  {
   "cell_type": "markdown",
   "id": "b714f030",
   "metadata": {},
   "source": [
    "# Elgato OBS"
   ]
  },
  {
   "cell_type": "code",
   "execution_count": 1,
   "id": "3591b3fa",
   "metadata": {},
   "outputs": [],
   "source": [
    "import cv2\n",
    "import mediapipe as mp\n",
    "import numpy as np\n",
    "mp_drawing = mp.solutions.drawing_utils\n",
    "mp_pose = mp.solutions.pose"
   ]
  },
  {
   "cell_type": "code",
   "execution_count": 2,
   "id": "22abe3ee",
   "metadata": {},
   "outputs": [
    {
     "data": {
      "text/plain": [
       "(12, 12)"
      ]
     },
     "execution_count": 2,
     "metadata": {},
     "output_type": "execute_result"
    }
   ],
   "source": [
    "# iterate over the dataframe 'Data' and calculate angles\n",
    "import numpy as np\n",
    "\n",
    "def calculate_angle(a,b,c):\n",
    "    a = np.array(a) # First\n",
    "    b = np.array(b) # Mid\n",
    "    c = np.array(c) # End\n",
    "    \n",
    "    radians = np.arctan2(c[1]-b[1], c[0]-b[0]) - np.arctan2(a[1]-b[1], a[0]-b[0])\n",
    "    angle = np.abs(radians*180.0/np.pi)\n",
    "    \n",
    "    if angle >180.0:\n",
    "        angle = 360-angle\n",
    "        \n",
    "    return angle \n",
    "\n",
    "def getLandmarkXYZ(coordinates, landmark):\n",
    "    for coord in coordinates:\n",
    "        if coord['Landmark'] == landmark:\n",
    "            return [coord['X'], coord['Y']]\n",
    "\n",
    "def calculateAngles(coords, joints):\n",
    "    angles = []\n",
    "    for joint in joints:\n",
    "        landmark_first = getLandmarkXYZ(coords, joint[0])\n",
    "        landmark_mid = getLandmarkXYZ(coords, joint[1])\n",
    "        landmark_end = getLandmarkXYZ(coords, joint[2])\n",
    "        \n",
    "        angle = calculate_angle(landmark_first, landmark_mid, landmark_end)\n",
    "        angles.append(angle)\n",
    "        \n",
    "    return angles\n",
    "        \n",
    "all_angles = [(14,12,24), (13,11,23), (16,14,12),(15,13,11),(12,24,26), (11,23,25), (24,26,28), (23, 25,27),(11,12,24), (12, 11, 23), (26, 24, 23), (25, 23, 24)]\n",
    "angle_columns_names = ['left_arm','right_arm','left_elbow','right_elbow','left_waist_leg','right_waist_leg','left_knee','right_knee','leftup_chest_inside','rightup_chest_inside','leftlow_chest_inside','rightlow_chest_inside']      \n",
    "len(all_angles), len(angle_columns_names)"
   ]
  },
  {
   "cell_type": "code",
   "execution_count": 3,
   "id": "0c24e660",
   "metadata": {},
   "outputs": [],
   "source": [
    "# VIDEO FEED CHECK\n",
    "cap = cv2.VideoCapture(0)\n",
    "while cap.isOpened():\n",
    "    ret, frame = cap.read()\n",
    "    cv2.imshow('Video Feed', frame)\n",
    "    \n",
    "    if cv2.waitKey(10) & 0xFF == ord('q'):\n",
    "        break\n",
    "        \n",
    "cap.release()\n",
    "cv2.destroyAllWindows()"
   ]
  },
  {
   "cell_type": "code",
   "execution_count": 4,
   "id": "acecd36e",
   "metadata": {},
   "outputs": [],
   "source": [
    "\n",
    "def draw_animation(image, line_start, angle, angle_name):\n",
    "    line_length = 50\n",
    "\n",
    "    # Draw the first line in red\n",
    "    line_end_1 = (int(line_start[0] + line_length), line_start[1])\n",
    "    cv2.line(image, line_start, line_end_1, (0, 0, 255), 2)\n",
    "\n",
    "    # Draw the second line at an angle in blue\n",
    "    line_end_2 = (\n",
    "        int(line_end_1[0] + line_length * np.cos(np.radians(angle))),\n",
    "        int(line_end_1[1] - line_length * np.sin(np.radians(angle)))\n",
    "    )\n",
    "    cv2.line(image, line_end_1, line_end_2, (255, 0, 0), 2)\n",
    "\n",
    "    # Display angle and name text\n",
    "    angle_text = f'{angle_name}:{(angle):.2f}deg'\n",
    "    cv2.putText(image, angle_text, (line_start[0]-40, line_start[1] + 20), cv2.FONT_HERSHEY_SIMPLEX, 0.4, (0, 0, 0), 1)\n",
    "\n",
    "\n",
    "def processPoseLandmark(results):\n",
    "    # Draw landmarks on the frame\n",
    "    \n",
    "    index = 0\n",
    "    keypoints = []\n",
    "    for data_point in results:\n",
    "        thisXYZ = {\n",
    "                             'X': data_point.x,\n",
    "                             'Y': data_point.y,\n",
    "                             'Z': data_point.z,\n",
    "                             'Visibility': data_point.visibility,\n",
    "                             'Landmark':index\n",
    "                             }\n",
    "        keypoints.append(thisXYZ)\n",
    "        index +=1\n",
    "        \n",
    "    return keypoints\n",
    "    "
   ]
  },
  {
   "cell_type": "markdown",
   "id": "ad1db2a6",
   "metadata": {},
   "source": []
  },
  {
   "cell_type": "code",
   "execution_count": 5,
   "id": "94b531c3",
   "metadata": {},
   "outputs": [
    {
     "ename": "NameError",
     "evalue": "name 'landmarks' is not defined",
     "output_type": "error",
     "traceback": [
      "\u001b[1;31m---------------------------------------------------------------------------\u001b[0m",
      "\u001b[1;31mNameError\u001b[0m                                 Traceback (most recent call last)",
      "Cell \u001b[1;32mIn [5], line 48\u001b[0m\n\u001b[0;32m     45\u001b[0m cv2\u001b[38;5;241m.\u001b[39mimshow(\u001b[38;5;124m'\u001b[39m\u001b[38;5;124mgym-motion-pose-ai v1.0\u001b[39m\u001b[38;5;124m'\u001b[39m, image)\n\u001b[0;32m     47\u001b[0m \u001b[38;5;66;03m# calculate angles on a separate window\u001b[39;00m\n\u001b[1;32m---> 48\u001b[0m json \u001b[38;5;241m=\u001b[39m processPoseLandmark(\u001b[43mlandmarks\u001b[49m)\n\u001b[0;32m     49\u001b[0m angles \u001b[38;5;241m=\u001b[39m calculateAngles(json, all_angles)\n\u001b[0;32m     50\u001b[0m landscape_image \u001b[38;5;241m=\u001b[39m np\u001b[38;5;241m.\u001b[39mones((\u001b[38;5;241m500\u001b[39m, \u001b[38;5;241m850\u001b[39m, \u001b[38;5;241m3\u001b[39m), dtype\u001b[38;5;241m=\u001b[39mnp\u001b[38;5;241m.\u001b[39muint8) \u001b[38;5;241m*\u001b[39m \u001b[38;5;241m255\u001b[39m\n",
      "\u001b[1;31mNameError\u001b[0m: name 'landmarks' is not defined"
     ]
    }
   ],
   "source": [
    "# INITIATE ANGLE WINDOW\n",
    "landscape_image = np.ones((500, 850, 3), dtype=np.uint8) * 255\n",
    "\n",
    "# Define the initial starting points for each animation in a 4x3 grid\n",
    "start_points_grid = [(50 + (i % 4) * 200, 50 + (i // 4) * 150) for i in range(12)]\n",
    "\n",
    "# Extract relevant columns from the DataFrame\n",
    "angle_columns = [\n",
    "    'left_arm', 'right_arm', 'left_elbow', 'right_elbow',\n",
    "    'left_waist_leg', 'right_waist_leg', 'left_knee', 'right_kneee',\n",
    "    'leftup_chest_inside', 'rightup_chest_inside', 'leftlow_chest_inside', 'rightlow_chest_inside', 'leg_spread'\n",
    "]\n",
    "\n",
    "\n",
    "# OPEN CV - VIDEO FEED\n",
    "cap = cv2.VideoCapture(0)\n",
    "with mp_pose.Pose(min_detection_confidence=0.5, min_tracking_confidence=0.5) as pose:\n",
    "    while cap.isOpened():\n",
    "        ret, frame = cap.read()\n",
    "        \n",
    "        # Recolor image to RGB\n",
    "        image = cv2.cvtColor(frame, cv2.COLOR_BGR2RGB)\n",
    "        image.flags.writeable = False\n",
    "      \n",
    "        # Make detection\n",
    "        results = pose.process(image)\n",
    "    \n",
    "        # Recolor back to BGR\n",
    "        image.flags.writeable = True\n",
    "        image = cv2.cvtColor(image, cv2.COLOR_RGB2BGR)\n",
    "        \n",
    "        # Extract landmarks\n",
    "        try:\n",
    "            landmarks = results.pose_landmarks.landmark\n",
    "        except:\n",
    "            pass\n",
    "        \n",
    "        \n",
    "        # Render detections\n",
    "        mp_drawing.draw_landmarks(image, results.pose_landmarks, mp_pose.POSE_CONNECTIONS,\n",
    "                                mp_drawing.DrawingSpec(color=(245,117,66), thickness=2, circle_radius=1), \n",
    "                                mp_drawing.DrawingSpec(color=(0,0,30), thickness=2, circle_radius=1) \n",
    "                                 )               \n",
    "        \n",
    "        cv2.imshow('gym-motion-pose-ai v1.0', image)\n",
    "        \n",
    "        # calculate angles on a separate window\n",
    "        json = processPoseLandmark(landmarks)\n",
    "        angles = calculateAngles(json, all_angles)\n",
    "        landscape_image = np.ones((500, 850, 3), dtype=np.uint8) * 255\n",
    "        \n",
    "        for i, (start_point, angle_column) in enumerate(zip(start_points_grid, angle_columns)):\n",
    "            angle_value = angles[i]\n",
    "            draw_animation(landscape_image, start_point, 180.0 - angle_value, angle_column)\n",
    "\n",
    "        cv2.imshow('Grid of Animations', landscape_image)\n",
    "\n",
    "        if cv2.waitKey(10) & 0xFF == ord('q'):\n",
    "            break\n",
    "\n",
    "    cap.release()\n",
    "    cv2.destroyAllWindows()"
   ]
  },
  {
   "cell_type": "code",
   "execution_count": null,
   "id": "254b131e",
   "metadata": {},
   "outputs": [],
   "source": []
  }
 ],
 "metadata": {
  "kernelspec": {
   "display_name": "Python 3 (ipykernel)",
   "language": "python",
   "name": "python3"
  },
  "language_info": {
   "codemirror_mode": {
    "name": "ipython",
    "version": 3
   },
   "file_extension": ".py",
   "mimetype": "text/x-python",
   "name": "python",
   "nbconvert_exporter": "python",
   "pygments_lexer": "ipython3",
   "version": "3.10.8"
  }
 },
 "nbformat": 4,
 "nbformat_minor": 5
}
