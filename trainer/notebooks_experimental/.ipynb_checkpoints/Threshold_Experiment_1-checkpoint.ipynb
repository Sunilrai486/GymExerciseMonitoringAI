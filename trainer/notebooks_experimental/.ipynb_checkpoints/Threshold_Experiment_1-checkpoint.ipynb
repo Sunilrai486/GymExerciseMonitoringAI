{
 "cells": [
  {
   "cell_type": "markdown",
   "id": "2190bf2c",
   "metadata": {},
   "source": [
    "## Excercise Threshold Critique\n",
    "\n",
    "Method 1 : Ratio of Areas Method  \n",
    "Method 2: Angular Translatory Method"
   ]
  },
  {
   "cell_type": "code",
   "execution_count": 2,
   "id": "e57df1d0",
   "metadata": {},
   "outputs": [],
   "source": [
    "import cv2\n",
    "import mediapipe as mp"
   ]
  },
  {
   "cell_type": "code",
   "execution_count": 4,
   "id": "25f0c758",
   "metadata": {},
   "outputs": [],
   "source": [
    "# Initialize MediaPipe Pose model\n",
    "mp_pose = mp.solutions.pose\n",
    "pose = mp_pose.Pose()\n",
    "\n",
    "# Open video file\n",
    "video_file = './videos/dumbbell_biceps_curls/dumbbell_biceps_curls.mp4_1.mp4.mp4'\n",
    "cap = cv2.VideoCapture(video_file)\n",
    "\n",
    "# Loop through each frame in the video\n",
    "while cap.isOpened():\n",
    "    ret, frame = cap.read()\n",
    "    if not ret:\n",
    "        break\n",
    "    \n",
    "    # Convert the image to RGB\n",
    "    rgb_frame = cv2.cvtColor(frame, cv2.COLOR_BGR2RGB)\n",
    "    \n",
    "    # Process the frame with MediaPipe Pose model\n",
    "    results = pose.process(rgb_frame)\n",
    "    \n",
    "    # Draw the pose landmarks on the frame\n",
    "    if results.pose_landmarks:\n",
    "        mp.solutions.drawing_utils.draw_landmarks(\n",
    "            frame, results.pose_landmarks, mp_pose.POSE_CONNECTIONS)\n",
    "    \n",
    "    # Display the frame\n",
    "    cv2.imshow('MediaPipe Pose', frame)\n",
    "    \n",
    "    # Break the loop if 'q' is pressed\n",
    "    if cv2.waitKey(1) & 0xFF == ord('q'):\n",
    "        break\n",
    "\n",
    "# Release resources\n",
    "cap.release()\n",
    "cv2.destroyAllWindows()\n"
   ]
  },
  {
   "cell_type": "code",
   "execution_count": null,
   "id": "54408510",
   "metadata": {},
   "outputs": [],
   "source": []
  }
 ],
 "metadata": {
  "kernelspec": {
   "display_name": "Python 3 (ipykernel)",
   "language": "python",
   "name": "python3"
  },
  "language_info": {
   "codemirror_mode": {
    "name": "ipython",
    "version": 3
   },
   "file_extension": ".py",
   "mimetype": "text/x-python",
   "name": "python",
   "nbconvert_exporter": "python",
   "pygments_lexer": "ipython3",
   "version": "3.10.8"
  }
 },
 "nbformat": 4,
 "nbformat_minor": 5
}
