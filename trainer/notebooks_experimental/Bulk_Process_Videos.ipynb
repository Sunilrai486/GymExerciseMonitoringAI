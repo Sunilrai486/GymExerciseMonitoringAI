{
 "cells": [
  {
   "cell_type": "code",
   "execution_count": 1,
   "id": "8b87b0de",
   "metadata": {},
   "outputs": [],
   "source": [
    "import os\n",
    "import cv2\n",
    "import json\n",
    "import mediapipe as mp"
   ]
  },
  {
   "cell_type": "code",
   "execution_count": 2,
   "id": "b47c9332",
   "metadata": {},
   "outputs": [],
   "source": [
    "def save_to_json(json_file_path, data):\n",
    "    with open(json_file_path, 'a') as json_file:\n",
    "        json.dump(data, json_file)\n",
    "        json_file.write('\\n')\n",
    "\n",
    "def process_frame(frame, pose, json_file_path):\n",
    "    rgb_frame = cv2.cvtColor(frame, cv2.COLOR_BGR2RGB)\n",
    "    results = pose.process(rgb_frame)\n",
    "\n",
    "    if results.pose_landmarks:\n",
    "        keypoints = []\n",
    "        index = 0\n",
    "        for data_point in results.pose_landmarks.landmark:\n",
    "            keypoints.append({\n",
    "                'X': data_point.x,\n",
    "                'Y': data_point.y,\n",
    "                'Z': data_point.z,\n",
    "                'Visibility': data_point.visibility,\n",
    "                'Landmark': index\n",
    "            })\n",
    "            index += 1\n",
    "\n",
    "        save_to_json(json_file_path, keypoints)\n",
    "\n",
    "    return frame\n",
    "\n",
    "mp_pose = mp.solutions.pose\n",
    "\n",
    "video_folder = \"seg_videos\"\n",
    "json_folder = \"json\"\n",
    "\n",
    "# Ensure the json folder exists\n",
    "if not os.path.exists(json_folder):\n",
    "    os.makedirs(json_folder)\n",
    "\n",
    "for filename in os.listdir(video_folder):\n",
    "    if filename.endswith(\".mp4\"):\n",
    "        video_path = os.path.join(video_folder, filename)\n",
    "        output_path = os.path.join(json_folder, f\"{os.path.splitext(filename)[0]}.json\")\n",
    "\n",
    "        cap = cv2.VideoCapture(video_path)\n",
    "\n",
    "        if not cap.isOpened():\n",
    "            print(f\"Error: Could not open video file: {filename}\")\n",
    "        else:\n",
    "            pose = mp_pose.Pose(min_detection_confidence=0.5, min_tracking_confidence=0.5)\n",
    "\n",
    "            while cap.isOpened():\n",
    "                ret, frame = cap.read()\n",
    "\n",
    "                if not ret:\n",
    "                    break\n",
    "\n",
    "                process_frame(frame, pose, output_path)\n",
    "\n",
    "            cap.release()\n",
    "            pose.close()\n"
   ]
  },
  {
   "cell_type": "code",
   "execution_count": null,
   "id": "cabf6995",
   "metadata": {},
   "outputs": [],
   "source": []
  }
 ],
 "metadata": {
  "kernelspec": {
   "display_name": "Python 3 (ipykernel)",
   "language": "python",
   "name": "python3"
  },
  "language_info": {
   "codemirror_mode": {
    "name": "ipython",
    "version": 3
   },
   "file_extension": ".py",
   "mimetype": "text/x-python",
   "name": "python",
   "nbconvert_exporter": "python",
   "pygments_lexer": "ipython3",
   "version": "3.10.8"
  }
 },
 "nbformat": 4,
 "nbformat_minor": 5
}
